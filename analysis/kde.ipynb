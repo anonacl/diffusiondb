{
 "cells": [
  {
   "cell_type": "code",
   "execution_count": null,
   "metadata": {},
   "outputs": [],
   "source": [
    "from scipy.stats import gaussian_kde\n",
    "from sklearn.neighbors import KernelDensity\n",
    "from KDEpy import FFTKDE\n",
    "from scipy.stats import norm\n",
    "\n",
    "from PIL import Image\n",
    "from glob import glob\n",
    "from os.path import exists, join, basename\n",
    "from tqdm import tqdm\n",
    "from json import load, dump\n",
    "from multiprocessing import Pool\n",
    "from umap import UMAP\n",
    "from matplotlib import pyplot as plt\n",
    "import pyarrow.feather as feather\n",
    "\n",
    "import time\n",
    "import shutil\n",
    "import gc\n",
    "import random\n",
    "import math\n",
    "import cuml\n",
    "import matplotlib\n",
    "\n",
    "import numpy as np\n",
    "import pandas as pd\n",
    "import altair as alt\n",
    "alt.data_transformers.disable_max_rows()\n",
    "\n",
    "import warnings\n",
    "warnings.simplefilter(action='ignore', category=FutureWarning)\n",
    "\n",
    "matplotlib.rcParams[\"figure.dpi\"] = 300\n",
    "\n",
    "SEED = 20221111\n",
    "WORK_DIR = \"/nvmescratch/diffusiondb\"\n",
    "OUTPUT_DIR = join(WORK_DIR, 'outputs')\n",
    "PROMPT_EMB_DIR = \"/nvmescratch/diffusiondb/prompts/\""
   ]
  },
  {
   "cell_type": "code",
   "execution_count": null,
   "metadata": {},
   "outputs": [],
   "source": [
    "# # Get UMAP plot of prompt embedding\n",
    "# n_parts = 5\n",
    "# prompts = []\n",
    "# prompts_emb = []\n",
    "\n",
    "# for i in tqdm(range(n_parts)):\n",
    "#     prompt_emb = np.load(join(PROMPT_EMB_DIR, f'prompt-emb-part-{i + 1}-of-19.npz'))\n",
    "#     prompts.append(prompt_emb['prompts'])\n",
    "#     prompts_emb.append(prompt_emb['emb'])\n",
    "\n",
    "# prompts = np.concatenate(prompts, axis=0)\n",
    "# prompts_emb = np.concatenate(prompts_emb, axis=0)\n",
    "# prompts_emb.shape\n",
    "\n",
    "# prompt_num = 50000\n",
    "# rng = np.random.RandomState(SEED)\n",
    "# random_indexes = rng.choice(range(prompts_emb.shape[0]), prompt_num, replace=False)\n",
    "\n",
    "# cur_prompts = prompts[random_indexes]\n",
    "# cur_prompts_emb = prompts_emb[random_indexes, :]\n",
    "# cur_prompts_emb.shape\n",
    "\n",
    "# reducer = UMAP(\n",
    "#     metric='cosine',\n",
    "#     n_neighbors=60,\n",
    "#     min_dist=0.1,\n",
    "#     spread=1.0,\n",
    "#     n_components=2,\n",
    "#     verbose=False,\n",
    "#     random_state=SEED\n",
    "# )\n",
    "\n",
    "# projected_emb= reducer.fit_transform(cur_prompts_emb)"
   ]
  },
  {
   "cell_type": "code",
   "execution_count": null,
   "metadata": {},
   "outputs": [],
   "source": [
    "umap_1m_df = pd.read_csv(join(OUTPUT_DIR, 'umap-1m.csv'))\n",
    "print(umap_1m_df.shape)\n",
    "\n",
    "cur_df = umap_1m_df.sample(60000, replace=False, random_state=SEED)\n",
    "cur_df.shape"
   ]
  },
  {
   "cell_type": "code",
   "execution_count": null,
   "metadata": {},
   "outputs": [],
   "source": [
    "xs = cur_df['xs'].to_numpy()\n",
    "ys = cur_df['ys'].to_numpy()\n",
    "prompts = cur_df['prompts'].to_numpy()\n",
    "\n",
    "projected_emb = np.stack((xs, ys), axis=1)"
   ]
  },
  {
   "cell_type": "code",
   "execution_count": null,
   "metadata": {},
   "outputs": [],
   "source": [
    "plt.scatter(xs, ys, s=1.0, alpha=0.2, c='steelblue', edgecolors='none')\n",
    "plt.show()"
   ]
  },
  {
   "cell_type": "code",
   "execution_count": null,
   "metadata": {},
   "outputs": [],
   "source": [
    "# df = pd.DataFrame({'x': projected_emb[:, 0], 'y': projected_emb[:, 1]})\n",
    "# df.to_csv('test-data-2d.csv', index=False)"
   ]
  },
  {
   "cell_type": "code",
   "execution_count": null,
   "metadata": {},
   "outputs": [],
   "source": [
    "# # Compute the bandwidth using silverman's rule\n",
    "n, d = projected_emb.shape\n",
    "bw = (n * (d + 2) / 4.)**(-1. / (d + 4))\n",
    "\n",
    "# # Scott's rule\n",
    "# bw = n**(-1./(d+4))\n",
    "\n",
    "# from sklearn.model_selection import GridSearchCV\n",
    "\n",
    "# kde_cv = GridSearchCV(\n",
    "#     KernelDensity(),\n",
    "#     {'bandwidth': np.linspace(0.1, 1.0, 30)},\n",
    "#     cv=5,\n",
    "#     verbose=2\n",
    "# )\n",
    "\n",
    "# kde_cv.fit(projected_emb)\n",
    "\n",
    "kde = KernelDensity(kernel='gaussian', bandwidth=bw)\n",
    "kde.fit(projected_emb[:, :])"
   ]
  },
  {
   "cell_type": "code",
   "execution_count": null,
   "metadata": {},
   "outputs": [],
   "source": [
    "xs = projected_emb[:, 0]\n",
    "ys = projected_emb[:, 1]\n",
    "\n",
    "x_min, x_max = np.min(xs), np.max(xs)\n",
    "y_min, y_max = np.min(ys), np.max(ys)\n",
    "\n",
    "x_gap = x_max - x_min\n",
    "y_gap = y_max - y_min\n",
    "\n",
    "if x_gap > y_gap:\n",
    "    # Expand the larger range to leave some padding in the plots\n",
    "    x_min -= x_gap / 50\n",
    "    x_max += x_gap / 50\n",
    "    x_gap = x_max - x_min\n",
    "    \n",
    "    # Regulate the 2D grid to be a square\n",
    "    y_min -= (x_gap - y_gap) / 2\n",
    "    y_max += (x_gap - y_gap) / 2\n",
    "else:\n",
    "    # Expand the larger range to leave some padding in the plots\n",
    "    y_min -= y_gap / 50\n",
    "    y_max += y_gap / 50\n",
    "    y_gap = y_max - y_min\n",
    "    \n",
    "    # Regulate the 2D grid to be a square\n",
    "    x_min -= (y_gap - x_gap) / 2\n",
    "    x_max += (y_gap - x_gap) / 2\n",
    "\n",
    "# Estimate on a 2D grid\n",
    "grid_size = 200\n",
    "grid_xs = np.linspace(x_min, x_max, grid_size)\n",
    "grid_ys = np.linspace(y_min, y_max, grid_size)\n",
    "xx, yy = np.meshgrid(grid_xs, grid_ys)\n",
    "\n",
    "grid = np.vstack([xx.ravel(), yy.ravel()]).transpose()\n",
    "grid.shape"
   ]
  },
  {
   "cell_type": "code",
   "execution_count": null,
   "metadata": {},
   "outputs": [],
   "source": [
    "print(x_min, x_max, y_min, y_max)"
   ]
  },
  {
   "cell_type": "code",
   "execution_count": null,
   "metadata": {},
   "outputs": [],
   "source": [
    "# # Scipy\n",
    "# kde_model = gaussian_kde(projected_emb.T, bw_method='silverman')\n",
    "# log_density = kde_model.evaluate(grid.T)\n",
    "# grid_density = np.reshape(log_density, xx.shape)\n",
    "# grid_density.shape"
   ]
  },
  {
   "cell_type": "code",
   "execution_count": null,
   "metadata": {},
   "outputs": [],
   "source": [
    "# Sklearn\n",
    "log_density = kde.score_samples(grid)\n",
    "log_density = np.exp(log_density)\n",
    "grid_density = np.reshape(log_density, xx.shape)\n",
    "grid_density.shape"
   ]
  },
  {
   "cell_type": "code",
   "execution_count": null,
   "metadata": {},
   "outputs": [],
   "source": [
    "fig = plt.figure(figsize=(10, 3))\n",
    "plt.hist(grid_density.reshape(-1), bins=20)\n",
    "fig.show()"
   ]
  },
  {
   "cell_type": "code",
   "execution_count": null,
   "metadata": {},
   "outputs": [],
   "source": [
    "grid_density.round(4)"
   ]
  },
  {
   "cell_type": "code",
   "execution_count": null,
   "metadata": {},
   "outputs": [],
   "source": [
    "fig = plt.figure()\n",
    "ax = fig.gca()\n",
    "\n",
    "ax.set_xlim(x_min, x_max)\n",
    "ax.set_ylim(y_min, y_max)\n",
    "\n",
    "# Contourf plot\n",
    "ax.set_title(f'KDE on {grid_density.shape[0]} Grid of {projected_emb.shape[0]} Prompts (bw={bw:.2f})')\n",
    "cfset = ax.contourf(xx, yy, grid_density.round(4),\n",
    "                    levels=np.linspace(0, np.max(grid_density), 20),\n",
    "                    cmap='Blues',\n",
    "                    alpha=1)\n",
    "\n",
    "# ax.scatter(projected_emb[:, 0], projected_emb[:, 1], s=0.5, alpha=0.2, c='black', edgecolors='none')\n"
   ]
  },
  {
   "cell_type": "code",
   "execution_count": null,
   "metadata": {},
   "outputs": [],
   "source": [
    "grid_density.shape"
   ]
  },
  {
   "cell_type": "code",
   "execution_count": null,
   "metadata": {},
   "outputs": [],
   "source": [
    "def locate_cell(x, y, x_min, x_max, y_min, y_max, grid_size):\n",
    "    \"\"\"\n",
    "    Locate a cell where the given point (x, y) falls into.\n",
    "    \"\"\"\n",
    "    \n",
    "    # Handle out-of-bound point\n",
    "    if x <= x_min:\n",
    "        x_i = 0\n",
    "    elif x >= x_max:\n",
    "        x_i = grid_size - 1\n",
    "    else:\n",
    "        x_step = (x_max - x_min) / grid_size\n",
    "        x_i = int((x - x_min) / x_step)\n",
    "        \n",
    "    if y <= y_min:\n",
    "        y_i = 0\n",
    "    elif y >= y_max:    \n",
    "        y_i = grid_size - 1\n",
    "    else:\n",
    "        y_step = (y_max - y_min) / grid_size\n",
    "        y_i = int((y - y_min) // y_step)\n",
    "    \n",
    "    return x_i, y_i"
   ]
  },
  {
   "cell_type": "code",
   "execution_count": null,
   "metadata": {},
   "outputs": [],
   "source": [
    "result = locate_cell(4, -2, x_min, x_max, y_min, y_max, 200)\n",
    "result"
   ]
  },
  {
   "cell_type": "code",
   "execution_count": null,
   "metadata": {},
   "outputs": [],
   "source": [
    "xs = projected_emb[:, 0]\n",
    "ys = projected_emb[:, 1]\n",
    "\n",
    "x_min, x_max = np.min(xs), np.max(xs)\n",
    "y_min, y_max = np.min(ys), np.max(ys)\n",
    "\n",
    "grid_xs = np.linspace(x_min, x_max, grid_size)\n",
    "grid_ys = np.linspace(y_min, y_max, grid_size)\n",
    "xx, yy = np.meshgrid(grid_xs, grid_ys)\n",
    "\n",
    "grid = np.vstack([xx.ravel(), yy.ravel()]).transpose()\n",
    "grid.shape"
   ]
  },
  {
   "cell_type": "code",
   "execution_count": null,
   "metadata": {},
   "outputs": [],
   "source": [
    "grid_ys[54]"
   ]
  },
  {
   "attachments": {},
   "cell_type": "markdown",
   "metadata": {},
   "source": [
    "## Export the Data"
   ]
  },
  {
   "cell_type": "code",
   "execution_count": null,
   "metadata": {},
   "outputs": [],
   "source": [
    "umap_60k = {\n",
    "    'xs': projected_emb[:, 0].astype(float).round(4).tolist(),\n",
    "    'ys': projected_emb[:, 1].astype(float).round(4).tolist(),\n",
    "    'prompts': prompts.tolist()\n",
    "}\n",
    "\n",
    "dump(umap_60k, open(join(OUTPUT_DIR, 'umap-60k.json'), 'w'))"
   ]
  },
  {
   "cell_type": "code",
   "execution_count": null,
   "metadata": {},
   "outputs": [],
   "source": [
    "# umap_50k = {\n",
    "#     'xs': projected_emb[:, 0],\n",
    "#     'ys': projected_emb[:, 1],\n",
    "#     'prompts': cur_prompts.tolist()\n",
    "# }\n",
    "\n",
    "# umap_50k_df = pd.DataFrame(umap_50k)\n",
    "# feather.write_feather(umap_50k_df, join(OUTPUT_DIR, 'umap-50k.feather'), compression=\"uncompressed\")"
   ]
  },
  {
   "cell_type": "code",
   "execution_count": null,
   "metadata": {},
   "outputs": [],
   "source": [
    "x_min, x_max, y_min, y_max = float(x_min), float(x_max), float(y_min), float(y_max)\n",
    "\n",
    "grid_density_json = {\n",
    "    'grid': grid_density.astype(float).round(4).tolist(),\n",
    "    'xRange': [x_min, x_max],\n",
    "    'yRange': [y_min, y_max],\n",
    "}\n",
    "dump(grid_density_json, open(join(OUTPUT_DIR, 'umap-60k-grid.json'), 'w'))"
   ]
  },
  {
   "cell_type": "code",
   "execution_count": null,
   "metadata": {},
   "outputs": [],
   "source": []
  }
 ],
 "metadata": {
  "kernelspec": {
   "display_name": "Python 3.9.13 ('rapids')",
   "language": "python",
   "name": "python3"
  },
  "language_info": {
   "codemirror_mode": {
    "name": "ipython",
    "version": 3
   },
   "file_extension": ".py",
   "mimetype": "text/x-python",
   "name": "python",
   "nbconvert_exporter": "python",
   "pygments_lexer": "ipython3",
   "version": "3.9.13"
  },
  "orig_nbformat": 4,
  "vscode": {
   "interpreter": {
    "hash": "c9758838403ef5c64e3388c7f7eb0622abdec8769e35829ff20981977cccefff"
   }
  }
 },
 "nbformat": 4,
 "nbformat_minor": 2
}
