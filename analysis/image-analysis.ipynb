{
 "cells": [
  {
   "cell_type": "code",
   "execution_count": null,
   "metadata": {},
   "outputs": [],
   "source": [
    "from glob import glob\n",
    "from os.path import exists, join, basename\n",
    "from copy import deepcopy\n",
    "from tqdm import tqdm\n",
    "from json import load, dump\n",
    "from sys import argv\n",
    "from matplotlib import pyplot as plt\n",
    "from scipy.spatial.distance import cosine\n",
    "from scipy.stats import norm\n",
    "from scipy import stats\n",
    "from PIL import Image, ImageDraw\n",
    "from collections import Counter\n",
    "from sklearn.neighbors import KernelDensity\n",
    "from functools import reduce\n",
    "\n",
    "import re\n",
    "import os\n",
    "import shutil\n",
    "import time\n",
    "import random\n",
    "import tarfile\n",
    "import zipfile\n",
    "import pickle\n",
    "import ndjson\n",
    "\n",
    "import pandas as pd\n",
    "import numpy as np\n",
    "\n",
    "SEED = 20220101\n",
    "\n",
    "# plt.style.use('ggplot')\n",
    "# plt.rcParams['figure.dpi'] = 300"
   ]
  },
  {
   "cell_type": "code",
   "execution_count": null,
   "metadata": {},
   "outputs": [],
   "source": [
    "PROMPT_EMB_PATH = \"/nvmescratch/diffusiondb/prompt-emb/prompt-emb.npz\"\n",
    "IMAGE_EMB_DIR = \"/nvmescratch/diffusiondb/img-emb\"\n",
    "PARQUET_PATH = \"/nvmescratch/diffusiondb/metadata.parquet\"\n",
    "\n",
    "ZIP_DIR1 = \"/project/diffusiondb-hugging/diffusiondb-large-part-1/\"\n",
    "ZIP_DIR2 = \"/project/diffusiondb-hugging/diffusiondb-large-part-2/\"\n",
    "\n",
    "WORK_DIR = \"/nvmescratch/diffusiondb/\"\n",
    "WORKING_IMAGE_DIR = \"/nvmescratch/diffusiondb/images/\"\n",
    "REMOTE_IMAGE_DIR = '/project/diffusiondb/images/'\n",
    "\n",
    "OUTPUT_DIR = join(WORK_DIR, 'outputs')"
   ]
  },
  {
   "attachments": {},
   "cell_type": "markdown",
   "metadata": {},
   "source": [
    "### Transform Image Embedding to UMAP"
   ]
  },
  {
   "cell_type": "code",
   "execution_count": null,
   "metadata": {},
   "outputs": [],
   "source": [
    "metadata_df = pd.read_parquet(\n",
    "    PARQUET_PATH,\n",
    "    columns=[\n",
    "        \"image_name\",\n",
    "        \"part_id\",\n",
    "        \"prompt\",\n",
    "        \"cfg\",\n",
    "        \"step\",\n",
    "        \"sampler\",\n",
    "        \"width\",\n",
    "        \"height\",\n",
    "        \"seed\",\n",
    "        \"image_nsfw\",\n",
    "    ],\n",
    ")\n",
    "print(metadata_df.shape)\n",
    "metadata_df.head()\n"
   ]
  },
  {
   "cell_type": "code",
   "execution_count": null,
   "metadata": {},
   "outputs": [],
   "source": [
    "prompts = set([p.lower() for p in metadata_df['prompt']])"
   ]
  },
  {
   "cell_type": "code",
   "execution_count": null,
   "metadata": {},
   "outputs": [],
   "source": [
    "# count = 0\n",
    "# limit = 300\n",
    "# for p in prompts:\n",
    "#     if 'dying' in p and '' in p and count < limit:\n",
    "#         print(p)\n",
    "#         print()\n",
    "#         count += 1"
   ]
  },
  {
   "cell_type": "code",
   "execution_count": null,
   "metadata": {},
   "outputs": [],
   "source": [
    "# Find unique hyperparameter + prompt pairs\n",
    "image_tuples = []\n",
    "\n",
    "for row in tqdm(metadata_df.itertuples(), total=len(metadata_df)):\n",
    "    cur_tuple = (row[3], row[4], row[5], row[6], row[7], row[8], row[9])\n",
    "    image_tuples.append(cur_tuple)"
   ]
  },
  {
   "cell_type": "code",
   "execution_count": null,
   "metadata": {},
   "outputs": [],
   "source": [
    "image_tuples = set(image_tuples)"
   ]
  },
  {
   "cell_type": "code",
   "execution_count": null,
   "metadata": {},
   "outputs": [],
   "source": [
    "target_names = set()\n",
    "name_to_index = {}\n",
    "\n",
    "for row in tqdm(metadata_df.itertuples(), total=len(metadata_df)):\n",
    "    cur_tuple = (row[3], row[4], row[5], row[6], row[7], row[8], row[9])\n",
    "    name_to_index[row[1]] = row[0]\n",
    "    \n",
    "    if cur_tuple in image_tuples:\n",
    "        target_names.add(row[1])"
   ]
  },
  {
   "cell_type": "code",
   "execution_count": null,
   "metadata": {},
   "outputs": [],
   "source": [
    "selected_names = []\n",
    "selected_embs = []\n",
    "\n",
    "counter = 0\n",
    "limit = 600\n",
    "\n",
    "for f in tqdm(glob(join(IMAGE_EMB_DIR, '*.npz')), total=limit):\n",
    "    try:\n",
    "        cur_emb = np.load(f)\n",
    "        images_name = cur_emb['images_name']\n",
    "        images_emb = cur_emb['images_emb']\n",
    "        \n",
    "        for i, name in enumerate(images_name):\n",
    "            if name in target_names:\n",
    "                selected_names.append(name)\n",
    "                selected_embs.append(images_emb[i, :])\n",
    "\n",
    "    except Exception as e:\n",
    "        print(e, f)\n",
    "        \n",
    "    counter += 1\n",
    "    if counter > limit:\n",
    "        break"
   ]
  },
  {
   "cell_type": "code",
   "execution_count": null,
   "metadata": {},
   "outputs": [],
   "source": [
    "# Temp testing\n",
    "\n",
    "selected_names = []\n",
    "selected_embs = []\n",
    "\n",
    "counter = 0\n",
    "limit = len(glob(join(IMAGE_EMB_DIR, '*.npz'))) + 1\n",
    "dir_count = {}\n",
    "\n",
    "for f in tqdm(glob(join(IMAGE_EMB_DIR, '*.npz')), total=limit):\n",
    "    try:\n",
    "        cur_count = 0\n",
    "        cur_emb = np.load(f)\n",
    "        images_name = cur_emb['images_name']\n",
    "\n",
    "        \n",
    "        for i, name in enumerate(images_name):\n",
    "            if name in target_names:\n",
    "                cur_count += 1\n",
    "                selected_names.append(name)\n",
    "                \n",
    "        dir_count[basename(f)] = cur_count\n",
    "\n",
    "    except Exception as e:\n",
    "        print(e, f)\n",
    "        \n",
    "    counter += 1\n",
    "    if counter > limit:\n",
    "        break"
   ]
  },
  {
   "cell_type": "code",
   "execution_count": null,
   "metadata": {},
   "outputs": [],
   "source": [
    "dir_count_pair = list(zip(dir_count.keys(), dir_count.values()))\n",
    "dir_count_pair.sort(key=lambda x: x[1])\n",
    "np.sum(list(dir_count.values()))"
   ]
  },
  {
   "cell_type": "code",
   "execution_count": null,
   "metadata": {},
   "outputs": [],
   "source": [
    "len(target_names)"
   ]
  },
  {
   "cell_type": "code",
   "execution_count": null,
   "metadata": {},
   "outputs": [],
   "source": [
    "# np.savez_compressed(join(OUTPUT_DIR, 'unique_img_embeddings.npz'), names=selected_names, embs=selected_embs)"
   ]
  },
  {
   "cell_type": "code",
   "execution_count": null,
   "metadata": {},
   "outputs": [],
   "source": [
    "# data = np.load(join(OUTPUT_DIR, 'unique_img_embeddings.npz'))\n",
    "# # selected_names = []\n",
    "# # selected_embs = []"
   ]
  },
  {
   "cell_type": "code",
   "execution_count": null,
   "metadata": {},
   "outputs": [],
   "source": [
    "rng = np.random.RandomState(SEED)\n",
    "target_size = 150000\n",
    "random_index = rng.choice(len(selected_embs), target_size, replace=False)\n",
    "\n",
    "subset_embs = []\n",
    "subset_names = []\n",
    "for i in random_index:\n",
    "    subset_embs.append(selected_embs[i])\n",
    "    subset_names.append(selected_names[i])\n",
    "    \n",
    "subset_embs = np.vstack(subset_embs)\n",
    "subset_names = np.array(subset_names)"
   ]
  },
  {
   "cell_type": "code",
   "execution_count": null,
   "metadata": {},
   "outputs": [],
   "source": [
    "umap_data = pickle.load(open('./outputs/umap-18m.pickle', 'rb'))"
   ]
  },
  {
   "cell_type": "code",
   "execution_count": null,
   "metadata": {},
   "outputs": [],
   "source": [
    "start = 0\n",
    "step = 5000\n",
    "end = start + step\n",
    "\n",
    "umap_names = []\n",
    "umap_results = []\n",
    "# upper_limit = selected_embs_mat.shape[0]\n",
    "upper_limit = 150000\n",
    "\n",
    "with tqdm(total=upper_limit) as pbar:\n",
    "    while end <= upper_limit:\n",
    "        umap_result = umap_data.transform(subset_embs[start: end, :])\n",
    "        umap_results.append(umap_result)\n",
    "        umap_names.append(subset_names[start: end])\n",
    "        \n",
    "        start += step\n",
    "        end = min(start + step, len(subset_embs))\n",
    "        pbar.update(step)"
   ]
  },
  {
   "cell_type": "code",
   "execution_count": null,
   "metadata": {},
   "outputs": [],
   "source": [
    "projected_name = []\n",
    "\n",
    "for item in umap_names:\n",
    "    for name in item:\n",
    "        projected_name.append(name)\n",
    "        \n",
    "projected_name = np.array(projected_name)\n",
    "projected_emb = np.vstack(umap_results)\n",
    "\n",
    "np.savez_compressed('./outputs/image-umap-150k.npz', umap=projected_emb)\n",
    "projected_emb.shape"
   ]
  },
  {
   "cell_type": "code",
   "execution_count": null,
   "metadata": {},
   "outputs": [],
   "source": [
    "# Find the prompts of these images\n",
    "projected_prompts = []\n",
    "projected_parameters = []\n",
    "\n",
    "for name in tqdm(projected_name):\n",
    "    cur_i = name_to_index[name]\n",
    "    row = metadata_df.iloc[cur_i]\n",
    "    projected_prompts.append(metadata_df['prompt'][cur_i])\n",
    "    \n",
    "    cur_parameters = f\"cfg: {row['cfg']}, step: {row['step']}, sampler: {row['sampler']}, width: {row['width']}, height: {row['height']}, seed: {row['seed']}\"\n",
    "    projected_parameters.append(cur_parameters)"
   ]
  },
  {
   "cell_type": "code",
   "execution_count": null,
   "metadata": {},
   "outputs": [],
   "source": [
    "umap_data_short = [\n",
    "    [\n",
    "        round(float(projected_emb[i, 0]), 3),\n",
    "        round(float(projected_emb[i, 1]), 3),\n",
    "        projected_name[i],\n",
    "        projected_prompts[i],\n",
    "        projected_parameters[i],\n",
    "    ]\n",
    "    for i in range(len(projected_name))\n",
    "]\n",
    "\n",
    "with open(\"./outputs/image-umap-150k.ndjson\", \"w\") as fp:\n",
    "    ndjson.dump(umap_data_short, fp)\n"
   ]
  },
  {
   "cell_type": "code",
   "execution_count": null,
   "metadata": {},
   "outputs": [],
   "source": [
    "def plot_umap(cur_prompts_emb):\n",
    "    projected_df = pd.DataFrame(\n",
    "        {\n",
    "            \"x\": cur_prompts_emb[:, 0],\n",
    "            \"y\": cur_prompts_emb[:, 1],\n",
    "        }\n",
    "    )\n",
    "\n",
    "    umap_hw_ratio = (np.max(projected_df[\"y\"]) - np.min(projected_df[\"y\"])) / (\n",
    "        np.max(projected_df[\"x\"]) - np.min(projected_df[\"x\"])\n",
    "    )\n",
    "\n",
    "    # Ignore far-away outliers\n",
    "    y_mean = np.mean(projected_df[\"y\"])\n",
    "    y_std = np.std(projected_df[\"y\"])\n",
    "\n",
    "    x_mean = np.mean(projected_df[\"x\"])\n",
    "    x_std = np.std(projected_df[\"x\"])\n",
    "\n",
    "    plt.scatter(\n",
    "        projected_df['x'],\n",
    "        projected_df['y'],\n",
    "        s=0.3,\n",
    "        alpha=0.3,\n",
    "        c='steelblue',\n",
    "        edgecolors='none'\n",
    "    )\n",
    "    sigma_scale = 4\n",
    "    plt.xlim((x_mean - x_std * sigma_scale, x_mean + x_std * sigma_scale))\n",
    "    plt.ylim((y_mean - y_std * sigma_scale, y_mean + y_std * sigma_scale))\n",
    "    plt.title(f'UMAP {len(cur_prompts_emb)} Image Embeddings')\n",
    "\n",
    "    plot_dir = join(WORK_DIR, 'plots')\n",
    "    plt.savefig(\n",
    "        join(plot_dir, f\"image-umap-{len(projected_df)}.jpg\"),\n",
    "        dpi=300,\n",
    "        bbox_inches='tight'\n",
    "    )\n",
    "    plt.show()"
   ]
  },
  {
   "cell_type": "code",
   "execution_count": null,
   "metadata": {},
   "outputs": [],
   "source": [
    "plot_umap(projected_emb)"
   ]
  },
  {
   "cell_type": "code",
   "execution_count": null,
   "metadata": {},
   "outputs": [],
   "source": [
    "projected_emb_all = np.load(\"./outputs/image-14m-umap.npz\")['umap']"
   ]
  },
  {
   "cell_type": "code",
   "execution_count": null,
   "metadata": {},
   "outputs": [],
   "source": [
    "rng = np.random.RandomState(SEED)\n",
    "target_size = 2000000\n",
    "random_index = rng.choice(len(projected_emb_all), target_size, replace=False)\n",
    "projected_emb = projected_emb_all[random_index]"
   ]
  },
  {
   "cell_type": "code",
   "execution_count": null,
   "metadata": {},
   "outputs": [],
   "source": [
    "# # Compute the bandwidth using silverman's rule\n",
    "n, d = projected_emb.shape\n",
    "bw = (n * (d + 2) / 4.)**(-1. / (d + 4))\n",
    "\n",
    "# # Scott's rule\n",
    "# bw = n**(-1./(d+4))\n",
    "\n",
    "# from sklearn.model_selection import GridSearchCV\n",
    "\n",
    "# kde_cv = GridSearchCV(\n",
    "#     KernelDensity(),\n",
    "#     {'bandwidth': np.linspace(0.1, 1.0, 30)},\n",
    "#     cv=5,\n",
    "#     verbose=2\n",
    "# )\n",
    "\n",
    "# kde_cv.fit(projected_emb)\n",
    "\n",
    "kde = KernelDensity(kernel='gaussian', bandwidth=bw)\n",
    "kde.fit(projected_emb[:, :])"
   ]
  },
  {
   "cell_type": "code",
   "execution_count": null,
   "metadata": {},
   "outputs": [],
   "source": [
    "# xs = projected_emb[:, 0]\n",
    "# ys = projected_emb[:, 1]\n",
    "\n",
    "# x_min, x_max = np.min(xs), np.max(xs)\n",
    "# y_min, y_max = np.min(ys), np.max(ys)\n",
    "\n",
    "# x_gap = x_max - x_min\n",
    "# y_gap = y_max - y_min\n",
    "\n",
    "# if x_gap > y_gap:\n",
    "#     # Expand the larger range to leave some padding in the plots\n",
    "#     x_min -= x_gap / 50\n",
    "#     x_max += x_gap / 50\n",
    "#     x_gap = x_max - x_min\n",
    "    \n",
    "#     # Regulate the 2D grid to be a square\n",
    "#     y_min -= (x_gap - y_gap) / 2\n",
    "#     y_max += (x_gap - y_gap) / 2\n",
    "# else:\n",
    "#     # Expand the larger range to leave some padding in the plots\n",
    "#     y_min -= y_gap / 50\n",
    "#     y_max += y_gap / 50\n",
    "#     y_gap = y_max - y_min\n",
    "    \n",
    "#     # Regulate the 2D grid to be a square\n",
    "#     x_min -= (y_gap - x_gap) / 2\n",
    "#     x_max += (y_gap - x_gap) / 2\n",
    "\n",
    "x_min, y_min, x_max, y_max = -17.16386748, -17.17534323, 16.75664148, 16.74516573\n",
    "\n",
    "# Estimate on a 2D grid\n",
    "grid_size = 200\n",
    "grid_xs = np.linspace(x_min, x_max, grid_size)\n",
    "grid_ys = np.linspace(y_min, y_max, grid_size)\n",
    "xx, yy = np.meshgrid(grid_xs, grid_ys)\n",
    "\n",
    "grid = np.vstack([xx.ravel(), yy.ravel()]).transpose()\n",
    "grid.shape"
   ]
  },
  {
   "cell_type": "code",
   "execution_count": null,
   "metadata": {},
   "outputs": [],
   "source": [
    "print(x_min, y_min, x_max, y_max)"
   ]
  },
  {
   "cell_type": "code",
   "execution_count": null,
   "metadata": {},
   "outputs": [],
   "source": [
    "log_density = kde.score_samples(grid)\n",
    "log_density = np.exp(log_density)\n",
    "grid_density = np.reshape(log_density, xx.shape)\n",
    "grid_density.shape"
   ]
  },
  {
   "cell_type": "code",
   "execution_count": null,
   "metadata": {},
   "outputs": [],
   "source": [
    "fig = plt.figure()\n",
    "ax = fig.gca()\n",
    "\n",
    "ax.set_xlim(x_min, x_max)\n",
    "ax.set_ylim(y_min, y_max)\n",
    "\n",
    "# Contourf plot\n",
    "ax.set_title(f'KDE on {grid_density.shape[0]} Grid of {projected_emb.shape[0]} Prompts (bw={bw:.2f})')\n",
    "cfset = ax.contourf(xx, yy, grid_density.round(4),\n",
    "                    levels=np.linspace(0, np.max(grid_density), 20),\n",
    "                    cmap='Blues',\n",
    "                    alpha=1)"
   ]
  },
  {
   "cell_type": "code",
   "execution_count": null,
   "metadata": {},
   "outputs": [],
   "source": [
    "x_min, x_max, y_min, y_max = float(x_min), float(x_max), float(y_min), float(y_max)\n",
    "\n",
    "grid_density_json = {\n",
    "    'grid': grid_density.astype(float).round(4).tolist(),\n",
    "    'xRange': [x_min, x_max],\n",
    "    'yRange': [y_min, y_max],\n",
    "}\n",
    "dump(grid_density_json, open(join(OUTPUT_DIR, 'umap-image-1m-grid.json'), 'w'))"
   ]
  },
  {
   "attachments": {},
   "cell_type": "markdown",
   "metadata": {},
   "source": [
    "## Visualize the Change Between Prompt and Image Embeddings"
   ]
  },
  {
   "cell_type": "code",
   "execution_count": null,
   "metadata": {},
   "outputs": [],
   "source": [
    "prompt_umap_data = load(open('./outputs/umap-1m.json', 'r'))"
   ]
  },
  {
   "cell_type": "code",
   "execution_count": null,
   "metadata": {},
   "outputs": [],
   "source": [
    "prompt_to_index = {}\n",
    "for i in tqdm(range(len(prompt_umap_data['xs']))):\n",
    "    prompt_to_index[prompt_umap_data['prompts'][i]] = i"
   ]
  },
  {
   "cell_type": "code",
   "execution_count": null,
   "metadata": {},
   "outputs": [],
   "source": [
    "image_prompt_umap = {\n",
    "    'image_xs': [],\n",
    "    'image_ys': [],\n",
    "    'prompt_xs': [],\n",
    "    'prompt_ys': []\n",
    "}\n",
    "\n",
    "\n",
    "error = 0\n",
    "\n",
    "for i in tqdm(range(projected_emb.shape[0])):\n",
    "    image_x = projected_emb[i, 0]\n",
    "    image_y = projected_emb[i, 1]\n",
    "    \n",
    "    try:\n",
    "        prompt = projected_prompts[i].lower()\n",
    "        prompt_i = prompt_to_index[prompt]\n",
    "        prompt_x = prompt_umap_data['xs'][i]\n",
    "        prompt_y = prompt_umap_data['ys'][i]\n",
    "        \n",
    "        image_prompt_umap['image_xs'].append(image_x)\n",
    "        image_prompt_umap['image_ys'].append(image_y)\n",
    "        image_prompt_umap['prompt_xs'].append(prompt_x)\n",
    "        image_prompt_umap['prompt_ys'].append(prompt_y)\n",
    "        \n",
    "    except KeyError:\n",
    "        error += 1        "
   ]
  },
  {
   "cell_type": "code",
   "execution_count": null,
   "metadata": {},
   "outputs": [],
   "source": [
    "image_umap_array = np.c_[image_prompt_umap['image_xs'], image_prompt_umap['image_ys']]\n",
    "prompt_umap_array = np.c_[image_prompt_umap['prompt_xs'], image_prompt_umap['prompt_ys']]"
   ]
  },
  {
   "cell_type": "code",
   "execution_count": null,
   "metadata": {},
   "outputs": [],
   "source": [
    "lines = np.c_[image_umap_array, prompt_umap_array]\n",
    "lines = lines.reshape(-1, 2, 2).swapaxes(1, 2).reshape(-1, 2)"
   ]
  },
  {
   "cell_type": "code",
   "execution_count": null,
   "metadata": {},
   "outputs": [],
   "source": [
    "plt.title(f'Lines from Image Embedding to Prompt Embedding ({10000})')\n",
    "\n",
    "for i in range(len(image_umap_array[:10000])):\n",
    "    plt.plot(image_umap_array[i], prompt_umap_array[i], color='steelblue', linewidth=0.5, alpha=0.06)\n",
    "\n",
    "plt.show()"
   ]
  },
  {
   "cell_type": "code",
   "execution_count": null,
   "metadata": {},
   "outputs": [],
   "source": []
  }
 ],
 "metadata": {
  "kernelspec": {
   "display_name": "rapids",
   "language": "python",
   "name": "python3"
  },
  "language_info": {
   "codemirror_mode": {
    "name": "ipython",
    "version": 3
   },
   "file_extension": ".py",
   "mimetype": "text/x-python",
   "name": "python",
   "nbconvert_exporter": "python",
   "pygments_lexer": "ipython3",
   "version": "3.9.13"
  },
  "orig_nbformat": 4,
  "vscode": {
   "interpreter": {
    "hash": "c9758838403ef5c64e3388c7f7eb0622abdec8769e35829ff20981977cccefff"
   }
  }
 },
 "nbformat": 4,
 "nbformat_minor": 2
}
