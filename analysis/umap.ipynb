{
 "cells": [
  {
   "cell_type": "code",
   "execution_count": null,
   "metadata": {},
   "outputs": [],
   "source": [
    "from PIL import Image\n",
    "from glob import glob\n",
    "from os.path import exists, join, basename\n",
    "from tqdm import tqdm\n",
    "from json import load, dump\n",
    "from multiprocessing import Pool\n",
    "from umap import UMAP\n",
    "from matplotlib import pyplot as plt\n",
    "\n",
    "import time\n",
    "import shutil\n",
    "import gc\n",
    "import random\n",
    "import math\n",
    "import cuml\n",
    "import matplotlib\n",
    "import pickle\n",
    "\n",
    "import numpy as np\n",
    "import pandas as pd\n",
    "import altair as alt\n",
    "alt.data_transformers.disable_max_rows()\n",
    "\n",
    "import warnings\n",
    "warnings.simplefilter(action='ignore', category=FutureWarning)\n",
    "\n",
    "matplotlib.rcParams[\"figure.dpi\"] = 300\n",
    "\n",
    "SEED = 20221111\n",
    "WORK_DIR = \"/nvmescratch/diffusiondb\"\n",
    "OUTPUT_DIR = join(WORK_DIR, 'outputs')\n",
    "PROMPT_EMB_DIR = \"/nvmescratch/diffusiondb/prompts/\""
   ]
  },
  {
   "cell_type": "code",
   "execution_count": null,
   "metadata": {},
   "outputs": [],
   "source": [
    "# Get UMAP plot of prompt embedding\n",
    "n_parts = 19\n",
    "prompts = []\n",
    "prompts_emb = []\n",
    "\n",
    "for i in tqdm(range(n_parts)):\n",
    "    prompt_emb = np.load(join(PROMPT_EMB_DIR, f'prompt-emb-part-{i + 1}-of-19.npz'))\n",
    "    prompts.append(prompt_emb['prompts'])\n",
    "    prompts_emb.append(prompt_emb['emb'])\n"
   ]
  },
  {
   "cell_type": "code",
   "execution_count": null,
   "metadata": {},
   "outputs": [],
   "source": [
    "prompts = np.concatenate(prompts, axis=0)\n",
    "prompts_emb = np.concatenate(prompts_emb, axis=0)"
   ]
  },
  {
   "cell_type": "code",
   "execution_count": null,
   "metadata": {},
   "outputs": [],
   "source": [
    "prompts_emb.shape"
   ]
  },
  {
   "cell_type": "code",
   "execution_count": null,
   "metadata": {},
   "outputs": [],
   "source": [
    "# nn = 60\n",
    "# min_dist = 0.9\n",
    "\n",
    "# reducer = UMAP(\n",
    "#     n_neighbors=nn,\n",
    "#     min_dist=min_dist,\n",
    "#     spread=5.0,\n",
    "#     metric='cosine',\n",
    "#     n_components=2,\n",
    "#     verbose=True,\n",
    "#     random_state=SEED\n",
    "# )\n",
    "\n",
    "# projected_emb = reducer.fit_transform(prompts_emb[random_indexes, :])"
   ]
  },
  {
   "cell_type": "code",
   "execution_count": null,
   "metadata": {},
   "outputs": [],
   "source": [
    "# nn_candidates = [10, 20, 30, 40, 50, 60, 70, 80, 90, 100]\n",
    "# mdist_candidates = [0.1, 0.2, 0.3, 0.4, 0.5, 0.6, 0.7, 0.8, 0.9, 1.0]\n",
    "# spreads = [0.5, 1.0, 5.0, 10.0]\n",
    "\n",
    "# params = []\n",
    "# for nn in nn_candidates:\n",
    "#     for mdist in mdist_candidates:\n",
    "#         for s in spreads:\n",
    "#             params.append((nn, mdist, s))\n",
    "            "
   ]
  },
  {
   "cell_type": "code",
   "execution_count": null,
   "metadata": {},
   "outputs": [],
   "source": [
    "def plot_umap(cur_prompts, cur_prompts_emb, nn, min_dist, spread, param_id=1):\n",
    "    reducer_cuml = cuml.UMAP(\n",
    "        n_neighbors=nn,\n",
    "        min_dist=min_dist,\n",
    "        metric='cosine',\n",
    "        spread=spread,\n",
    "        n_components=2,\n",
    "        verbose=False,\n",
    "        random_state=SEED\n",
    "    )\n",
    "\n",
    "    # Fit UMAP\n",
    "    projected_emb_cuml = reducer_cuml.fit_transform(cur_prompts_emb)\n",
    "    \n",
    "    # Plot UMAP\n",
    "    projected_df = pd.DataFrame(\n",
    "        {\n",
    "            \"x\": projected_emb_cuml[:, 0],\n",
    "            \"y\": projected_emb_cuml[:, 1],\n",
    "            \"prompt\": cur_prompts,\n",
    "        }\n",
    "    )\n",
    "\n",
    "    umap_hw_ratio = (np.max(projected_df[\"y\"]) - np.min(projected_df[\"y\"])) / (\n",
    "        np.max(projected_df[\"x\"]) - np.min(projected_df[\"x\"])\n",
    "    )\n",
    "\n",
    "    # Ignore far-away outliers\n",
    "    y_mean = np.mean(projected_df[\"y\"])\n",
    "    y_std = np.std(projected_df[\"y\"])\n",
    "\n",
    "    x_mean = np.mean(projected_df[\"x\"])\n",
    "    x_std = np.std(projected_df[\"x\"])\n",
    "\n",
    "\n",
    "    plt.scatter(\n",
    "        projected_df['x'],\n",
    "        projected_df['y'],\n",
    "        s=0.1,\n",
    "        alpha=0.03,\n",
    "        c='steelblue',\n",
    "        edgecolors='none'\n",
    "    )\n",
    "    sigma_scale = 4\n",
    "    plt.xlim((x_mean - x_std * sigma_scale, x_mean + x_std * sigma_scale))\n",
    "    plt.ylim((y_mean - y_std * sigma_scale, y_mean + y_std * sigma_scale))\n",
    "    plt.title(f'UMAP {len(cur_prompts)} Prompts (nn={nn}, mdist={min_dist}, spread={spread})')\n",
    "\n",
    "    plot_dir = join(WORK_DIR, 'plots')\n",
    "    plt.savefig(\n",
    "        join(plot_dir, f\"umap{param_id:03}-nn={nn}-mdist={min_dist}-spread={spread}.jpg\"),\n",
    "        dpi=300,\n",
    "        bbox_inches='tight'\n",
    "    )\n",
    "    \n",
    "    return reducer_cuml, projected_df"
   ]
  },
  {
   "cell_type": "code",
   "execution_count": null,
   "metadata": {},
   "outputs": [],
   "source": [
    "nn = 60\n",
    "min_dist = 0.1\n",
    "spread = 1.0\n",
    "\n",
    "# Randomly select a subset of prompt embedding to train the UMAP\n",
    "# prompt_num = 300000\n",
    "# rng = np.random.RandomState(SEED)\n",
    "# random_indexes = rng.choice(range(prompts_emb.shape[0]), prompt_num, replace=False)\n",
    "# random_indexes\n",
    "\n",
    "# cur_prompts = prompts[random_indexes]\n",
    "# cur_prompts_emb = prompts_emb[random_indexes, :]\n",
    "\n",
    "cur_prompts = prompts\n",
    "cur_prompts_emb = prompts_emb\n",
    "\n",
    "reducer_cuml, projected_df = plot_umap(cur_prompts, cur_prompts_emb, nn, min_dist, spread, param_id=1)"
   ]
  },
  {
   "cell_type": "code",
   "execution_count": null,
   "metadata": {},
   "outputs": [],
   "source": [
    "projected_df.to_csv(join(OUTPUT_DIR, 'umap-18m.csv'))"
   ]
  },
  {
   "cell_type": "code",
   "execution_count": null,
   "metadata": {},
   "outputs": [],
   "source": [
    "with open(join(OUTPUT_DIR, 'umap-18m.pickle'), 'wb') as fp:\n",
    "    pickle.dump(reducer_cuml, fp)"
   ]
  },
  {
   "cell_type": "code",
   "execution_count": null,
   "metadata": {},
   "outputs": [],
   "source": [
    "# cur_projected = projected_emb_cuml\n",
    "\n",
    "# projected_df = pd.DataFrame(\n",
    "#     {\n",
    "#         \"x\": cur_projected[:, 0],\n",
    "#         \"y\": cur_projected[:, 1],\n",
    "#         \"prompt\": prompts[random_indexes],\n",
    "#     }\n",
    "# )\n",
    "\n",
    "# umap_hw_ratio = (np.max(projected_df[\"y\"]) - np.min(projected_df[\"y\"])) / (\n",
    "#     np.max(projected_df[\"x\"]) - np.min(projected_df[\"x\"])\n",
    "# )\n",
    "\n",
    "# y_mean = np.mean(projected_df[\"y\"])\n",
    "# y_std = np.std(projected_df[\"y\"])\n",
    "\n",
    "# x_mean = np.mean(projected_df[\"x\"])\n",
    "# x_std = np.std(projected_df[\"x\"])"
   ]
  },
  {
   "cell_type": "code",
   "execution_count": null,
   "metadata": {},
   "outputs": [],
   "source": [
    "# param_id = 1\n",
    "\n",
    "# plt.scatter(projected_df['x'], projected_df['y'], s=0.8, alpha=0.06, c='steelblue', edgecolors='none')\n",
    "# sigma_scale = 4\n",
    "# plt.xlim((x_mean - x_std * sigma_scale, x_mean + x_std * sigma_scale))\n",
    "# plt.ylim((y_mean - y_std * sigma_scale, y_mean + y_std * sigma_scale))\n",
    "# plt.title(f'UMAP {len(random_indexes)} Prompts (nn={nn}, mdist={min_dist}, spread={spread})')\n",
    "\n",
    "# plot_dir = join(WORK_DIR, 'plots')\n",
    "# plt.savefig(\n",
    "#     join(plot_dir, f\"umap{param_id:03}-nn={nn}-mdist={min_dist}-spread={spread}.jpg\"),\n",
    "#     dpi=300,\n",
    "#     bbox_inches='tight'\n",
    "# )\n",
    "# plt.show()"
   ]
  },
  {
   "cell_type": "code",
   "execution_count": null,
   "metadata": {},
   "outputs": [],
   "source": [
    "# alt.Chart(projected_df).mark_circle(\n",
    "#     color='steelblue',\n",
    "#     opacity=0.3\n",
    "# ).encode(\n",
    "#     x='x:Q',\n",
    "#     y='y:Q',\n",
    "#     tooltip='prompt:N'\n",
    "# ).properties(\n",
    "#     title=f'UMAP Plot of {projected_emb.shape[0]} Points',\n",
    "#     width=900,\n",
    "#     height=int(umap_hw_ratio * 900)\n",
    "# ).interactive()"
   ]
  },
  {
   "cell_type": "markdown",
   "metadata": {},
   "source": [
    "## Topic Modeling"
   ]
  },
  {
   "cell_type": "code",
   "execution_count": null,
   "metadata": {},
   "outputs": [],
   "source": [
    "from bertopic import BERTopic\n",
    "from hdbscan import HDBSCAN"
   ]
  },
  {
   "cell_type": "code",
   "execution_count": null,
   "metadata": {},
   "outputs": [],
   "source": [
    "topic_reducer = UMAP(\n",
    "    n_neighbors=15,\n",
    "    min_dist=0.1,\n",
    "    spread=1.0,\n",
    "    metric='cosine',\n",
    "    n_components=5,\n",
    "    verbose=True\n",
    ")\n",
    "\n",
    "emb_dim5 = topic_reducer.fit_transform(prompts_emb[:prompt_num, :])"
   ]
  },
  {
   "cell_type": "code",
   "execution_count": null,
   "metadata": {},
   "outputs": [],
   "source": [
    "hdbscan_model = HDBSCAN(\n",
    "    min_cluster_size=15,\n",
    "    metric=\"euclidean\",\n",
    "    cluster_selection_method=\"eom\",\n",
    "    prediction_data=True,\n",
    ")\n"
   ]
  },
  {
   "cell_type": "code",
   "execution_count": null,
   "metadata": {},
   "outputs": [],
   "source": [
    "hdbscan_model.fit(emb_dim5)"
   ]
  },
  {
   "cell_type": "code",
   "execution_count": null,
   "metadata": {},
   "outputs": [],
   "source": [
    "hdbscan_model.labels_"
   ]
  },
  {
   "cell_type": "code",
   "execution_count": null,
   "metadata": {},
   "outputs": [],
   "source": [
    "prompt_num = 5000\n",
    "topic_model = BERTopic(verbose=True, min_topic_size=5)\n",
    "topic_model.fit(prompts[:prompt_num], prompts_emb[:prompt_num, :])"
   ]
  },
  {
   "cell_type": "code",
   "execution_count": null,
   "metadata": {},
   "outputs": [],
   "source": [
    "topic_model.get_topic_info()"
   ]
  },
  {
   "cell_type": "code",
   "execution_count": null,
   "metadata": {},
   "outputs": [],
   "source": []
  }
 ],
 "metadata": {
  "kernelspec": {
   "display_name": "Python 3.9.13 ('rapids')",
   "language": "python",
   "name": "python3"
  },
  "language_info": {
   "codemirror_mode": {
    "name": "ipython",
    "version": 3
   },
   "file_extension": ".py",
   "mimetype": "text/x-python",
   "name": "python",
   "nbconvert_exporter": "python",
   "pygments_lexer": "ipython3",
   "version": "3.9.13"
  },
  "orig_nbformat": 4,
  "vscode": {
   "interpreter": {
    "hash": "c9758838403ef5c64e3388c7f7eb0622abdec8769e35829ff20981977cccefff"
   }
  }
 },
 "nbformat": 4,
 "nbformat_minor": 2
}
